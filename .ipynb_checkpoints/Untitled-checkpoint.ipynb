{
 "cells": [
  {
   "cell_type": "markdown",
   "id": "8d87c33c-b08f-4fb1-95e8-032c641ccbe7",
   "metadata": {},
   "source": [
    "CSS(cascading style sheets) is a language used to describe the presentation of a web page written in html.\n",
    "It controls the layout,colors,fonts,and overall visual apperance of web pages."
   ]
  },
  {
   "cell_type": "code",
   "execution_count": null,
   "id": "4464aafd-5ca0-425f-a05f-c83ecd198a06",
   "metadata": {},
   "outputs": [],
   "source": [
    "CSS syntax \n",
    " A CSS rule consists of a selector and a declaration block\n",
    "\n",
    "selector {\n",
    "    property: color value;5px\n",
    "1. selector:specifies the html elements you want to style\n",
    "2 property: the style attribute you want to change (e.g. green,5px)\n",
    "3. value: the value of the property (e.g. green 20px)"
   ]
  },
  {
   "cell_type": "code",
   "execution_count": null,
   "id": "748a69a8-7d3c-4b2b-969c-e32419b9e1ee",
   "metadata": {},
   "outputs": [],
   "source": [
    "example \n",
    "p{\n",
    "color:purple\n",
    "    font-size: 20px\n",
    "}\n",
    "This styles all <p> elements  to have green text and a font-size of 20 pixels"
   ]
  },
  {
   "cell_type": "code",
   "execution_count": null,
   "id": "5334287c-f6de-450a-ab53-7f10cdc77e8c",
   "metadata": {},
   "outputs": [],
   "source": [
    "external css\n",
    "uses an exterenal .css file linked with the <link> tag\n",
    "<head>\n",
    "<link rel=\"stylesheet\" href=\"styles.css\">\n",
    "</HEAD>"
   ]
  },
  {
   "cell_type": "code",
   "execution_count": null,
   "id": "d5558607-febc-4384-abf4-f15fff2bcf41",
   "metadata": {},
   "outputs": [],
   "source": [
    "element selector]\n",
    "selects all elements of a given type\n",
    "h1{\n",
    "color:orange\n",
    "}"
   ]
  },
  {
   "cell_type": "code",
   "execution_count": null,
   "id": "e7bb4586-596b-4ba4-9554-48960f2f2b18",
   "metadata": {},
   "outputs": [],
   "source": [
    "class selector selects elements with a specific class attribute use a period . followed by the class name\n",
    ".intro\n",
    "{font-size:12px;\n",
    "}\n",
    "a class selector must be paired with creating the class in ab html file\n",
    "<p class=\"intro\"> this is a paragraph to introduce you to blank topic.</p>"
   ]
  },
  {
   "cell_type": "code",
   "execution_count": null,
   "id": "5d7198ae-4591-4c3b-99b3-832bbcb73aab",
   "metadata": {},
   "outputs": [],
   "source": [
    "ID selector \n",
    "selects an element with a specfic id attribute. use a hash # followed by the id name\n",
    "#start {\n",
    "width:900px;\n",
    "}\n",
    "an id selector must be paired with creating the id in an html file an id is used to select a very specfic html element. we can use them with classes to dif\n",
    "differentiate among elements.\n",
    "<div id=\"start\">this is the start content area. </div>"
   ]
  },
  {
   "cell_type": "code",
   "execution_count": null,
   "id": "920c2432-ea9d-4798-b1e8-c63519229cc1",
   "metadata": {},
   "outputs": [],
   "source": [
    "universal selector\n",
    "selects all elements\n",
    "*{\n",
    "    margin:10px;\n",
    "padding:15px;\n",
    "}"
   ]
  },
  {
   "cell_type": "code",
   "execution_count": null,
   "id": "1801f3c8-f42f-4816-a4ad-5582128859ca",
   "metadata": {},
   "outputs": [],
   "source": [
    "grouping selectors applies same styles to multiple selectors.\n",
    "h1,h2,h3 {\n",
    "    color:violet;\n",
    "}"
   ]
  },
  {
   "cell_type": "code",
   "execution_count": null,
   "id": "a2620b3e-8aac-432e-8a38-0104b4578684",
   "metadata": {},
   "outputs": [],
   "source": [
    "common css properties \n",
    "color:sets the color of the text.\n",
    "p{\n",
    "color:#9999;\n",
    "}\n",
    "font-size:sets the size of font\n",
    "p{\n",
    "    font-size:22px;}\n",
    "font-family: specifies the font of the text\n",
    "p {\n",
    "font family: arial;comic sans;\n",
    "}\n",
    "font-weight:sets the weight (boldness) of the font.\n",
    "p{\n",
    "font-weight:boldest;\n",
    "}\n",
    "text-align: aligns the text horzontally.\n",
    "p{\n",
    "text-align:left;\n",
    "}"
   ]
  },
  {
   "cell_type": "code",
   "execution_count": null,
   "id": "da2d691e-26e8-47f6-a6ea-7771b6aa3056",
   "metadata": {},
   "outputs": [],
   "source": [
    "background properties\n",
    "{background-color;#33333;\n",
    "}\n",
    "bacground-image:sets a background for an element\n",
    "body {\n",
    "background-image: url('background.jpg');\n",
    "}"
   ]
  },
  {
   "cell_type": "code",
   "execution_count": null,
   "id": "e784af0c-907b-4567-a0c7-35539c3e494b",
   "metadata": {},
   "outputs": [],
   "source": [
    "box model properties \n",
    "the css box model consists of margins ,borders,padding,and the content area.\n",
    "width and height: set the size of the content area.\n",
    "div {\n",
    "width:300px;\n",
    "height:150px;\n",
    "}\n",
    "padding: sets the space between the content and the border.\n",
    "div {\n",
    "padding:20px;\n",
    "}\n",
    "border:sets the border around an element.\n",
    "div{\n",
    "border:3px solid #111;\n",
    "}\n",
    "margin:sets the space outide the border.\n",
    "div {\n",
    "margin:25px;\n",
    "}"
   ]
  },
  {
   "cell_type": "code",
   "execution_count": null,
   "id": "0030aaa1-214c-4e91-a047-98a0f719d118",
   "metadata": {},
   "outputs": [],
   "source": [
    "display and visibility \n",
    "display: specifies the display behavior af an element.\n",
    ".inline{\n",
    "display:inline;\n",
    "}\n",
    ".block {\n",
    "    display:block;\n",
    "}\n",
    ".none{\n",
    "display:none;/*hides the element*/\n",
    "visibility:controls the visibilty of an element.\n",
    ".invisible{\n",
    "visibility:hidden;/*element takes up space but is not visible*/\n",
    "}"
   ]
  },
  {
   "cell_type": "code",
   "execution_count": null,
   "id": "17d0fb61-12cc-4ffa-ac9c-9edcaf1b582f",
   "metadata": {},
   "outputs": [],
   "source": [
    "css flexbox\n",
    "flexbox is a layout mode in css designed to provide a more efficient way to lay out,align,and distribute space among items in a container.\n",
    "setting up a flex container\n",
    ".container {\n",
    "display:flex;\n",
    "}\n",
    "flex direction\n",
    "specifies the direction of the flex items.\n",
    ".container{flex-direction:row;/*row,row-reverse,column,column-reverse*/\n",
    "}\n",
    "justify content\n",
    "aligns items along the main axis.\n",
    ".container{\n",
    "justify-content:center;/*flex-start,flex-end,center,space-between,space-around*/\n",
    "}\n",
    "align items \n",
    "align items along the cross axis\n",
    ".container{\n",
    "align-items:cener;/*stretch,flex-start,flex-end,cener,baseline*/\n",
    "}\n",
    "flex wrap \n",
    "allows flex items to wrap onto multiple lines.\n",
    ".container{\n",
    "flex-wrap:wrap;/*nowrap,wrap-reverse*/\n",
    "}\n",
    "flex-item properties\n",
    "flex-grow:specfies how much a flex item will grow relative to the rest\n",
    ".item{flex-grow:2;\n",
    "     }\n",
    "flex-shrink:specifies how much a flex item will shrink relative to the rest.\n",
    ".item{\n",
    "flex-shrink:2;\n",
    "}\n",
    "example flexbox layout\n",
    "html:\n",
    "<div class=\"flex-container\">\n",
    "  <div>1</div>\n",
    "  <div>2</div>\n",
    "  <div>3</div>\n",
    "</div>\n",
    "css\n",
    ".container {\n",
    "display:flex;\n",
    "flex-direction:row;\n",
    "justify-content:space-between;\n",
    "align-items:center;\n",
    "}\n",
    ".item{\n",
    "    background-color:blue;\n",
    "padding:30px;\n",
    "margin:20px;\n",
    "flex:2;\n",
    "}"
   ]
  }
 ],
 "metadata": {
  "kernelspec": {
   "display_name": "Python 3 (ipykernel)",
   "language": "python",
   "name": "python3"
  },
  "language_info": {
   "codemirror_mode": {
    "name": "ipython",
    "version": 3
   },
   "file_extension": ".py",
   "mimetype": "text/x-python",
   "name": "python",
   "nbconvert_exporter": "python",
   "pygments_lexer": "ipython3",
   "version": "3.12.1"
  }
 },
 "nbformat": 4,
 "nbformat_minor": 5
}
